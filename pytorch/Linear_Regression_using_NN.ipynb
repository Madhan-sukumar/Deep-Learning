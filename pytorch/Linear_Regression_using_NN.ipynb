{
  "nbformat": 4,
  "nbformat_minor": 0,
  "metadata": {
    "colab": {
      "provenance": [],
      "authorship_tag": "ABX9TyNK/+BRUv3X8FqZu9Rf6PLJ",
      "include_colab_link": true
    },
    "kernelspec": {
      "name": "python3",
      "display_name": "Python 3"
    },
    "language_info": {
      "name": "python"
    }
  },
  "cells": [
    {
      "cell_type": "markdown",
      "metadata": {
        "id": "view-in-github",
        "colab_type": "text"
      },
      "source": [
        "<a href=\"https://colab.research.google.com/github/Madhan-sukumar/Deep-Learning/blob/main/pytorch/Linear_Regression_using_NN.ipynb\" target=\"_parent\"><img src=\"https://colab.research.google.com/assets/colab-badge.svg\" alt=\"Open In Colab\"/></a>"
      ]
    },
    {
      "cell_type": "markdown",
      "source": [
        "Creating and training a neural network involves the following essential steps:\n",
        "\n",
        "1. Define the architecture\n",
        "2. Forward propagate on the architecture using input data\n",
        "3. Calculate the loss\n",
        "4. Backpropagate to calculate the gradient for each weight\n",
        "5. Update the weights using a learning rate\n",
        "\n",
        "Steps include:\n",
        "\n",
        "1. Design model (input size, output size, forward pass)\n",
        "2. construct loss and optimizer\n",
        "3. Training loop \n",
        "      - forward pass: compute prediction and loss\n",
        "      - bakcward pass:  to initiate back propagation to calculate the gradients\n",
        "      - update the weights and iterate "
      ],
      "metadata": {
        "id": "GZUk7kEvzZm-"
      }
    },
    {
      "cell_type": "markdown",
      "source": [
        "Creating a Simple Linear Regression using Simple NN"
      ],
      "metadata": {
        "id": "XhUeusKtXHjP"
      }
    },
    {
      "cell_type": "code",
      "execution_count": null,
      "metadata": {
        "id": "SsKJxlX8syW9"
      },
      "outputs": [],
      "source": [
        "import torch\n",
        "import torch.nn as nn\n",
        "import numpy as np\n",
        "from sklearn import datasets\n",
        "import matplotlib.pyplot as plt"
      ]
    },
    {
      "cell_type": "code",
      "source": [
        "# prepare the datasets\n",
        "X_numpy, Y_numpy = datasets.make_regression(n_samples = 100, n_features= 1, noise =20, random_state=1)"
      ],
      "metadata": {
        "id": "H9gCzTNn8QOA"
      },
      "execution_count": null,
      "outputs": []
    },
    {
      "cell_type": "code",
      "source": [
        "print(type(X_numpy))\n",
        "print(X_numpy.dtype)"
      ],
      "metadata": {
        "colab": {
          "base_uri": "https://localhost:8080/"
        },
        "id": "gV4VMJ7xJYrs",
        "outputId": "fde9dd0b-309c-41bd-9c58-d803495d69c7"
      },
      "execution_count": null,
      "outputs": [
        {
          "output_type": "stream",
          "name": "stdout",
          "text": [
            "<class 'numpy.ndarray'>\n",
            "float64\n"
          ]
        }
      ]
    },
    {
      "cell_type": "code",
      "source": [
        "# the numpy array is in double or float64, so we converting it into tensor and float32\n",
        "x=torch.from_numpy(X_numpy.astype(np.float32))\n",
        "y=torch.from_numpy(Y_numpy.astype(np.float32))\n",
        "print(x.size())\n",
        "print(y.size())\n",
        "\n",
        "#reshaping the y to the 1 col with mul rows, since it contains 1 row with mul features\n",
        "y = y.view(-1,1)\n",
        "print(x.size())\n",
        "print(y.size()) "
      ],
      "metadata": {
        "colab": {
          "base_uri": "https://localhost:8080/"
        },
        "id": "O1rfrvKIJccv",
        "outputId": "8d244215-cfd1-4338-a095-bdd279cc84b2"
      },
      "execution_count": null,
      "outputs": [
        {
          "output_type": "stream",
          "name": "stdout",
          "text": [
            "torch.Size([100, 1])\n",
            "torch.Size([100])\n",
            "torch.Size([100, 1])\n",
            "torch.Size([100, 1])\n"
          ]
        }
      ]
    },
    {
      "cell_type": "code",
      "source": [
        "#asigning the rows and columns of X as samples and features\n",
        "n_samples,n_features = x.shape"
      ],
      "metadata": {
        "id": "2KF5ztPrKF8P"
      },
      "execution_count": null,
      "outputs": []
    },
    {
      "cell_type": "markdown",
      "source": [
        "#DESIGNING THE MODEL"
      ],
      "metadata": {
        "id": "ggsICpD5Na82"
      }
    },
    {
      "cell_type": "code",
      "source": [
        "input_size = n_features #giving one col as input\n",
        "output_size = 1 #predicting only 1 value\n",
        "\n",
        "#initialize the single layered linear regression  model\n",
        "model = nn.Linear(input_size,output_size)"
      ],
      "metadata": {
        "id": "-kA2kwv0NaHr"
      },
      "execution_count": null,
      "outputs": []
    },
    {
      "cell_type": "markdown",
      "source": [
        "# LOSS AND OPTIMISER"
      ],
      "metadata": {
        "id": "NSHnXJeAOU-S"
      }
    },
    {
      "cell_type": "code",
      "source": [
        "#set up the loss as MSE since it is a regression\n",
        "criterion = nn.MSELoss()\n",
        "\n",
        "#optimiser as stochastic gradient descent\n",
        "learning_rate = 0.01\n",
        "optimiser = torch.optim.SGD(model.parameters(),lr=learning_rate)"
      ],
      "metadata": {
        "id": "yCkx2sWlOSA9"
      },
      "execution_count": null,
      "outputs": []
    },
    {
      "cell_type": "markdown",
      "source": [
        "# TRAINING LOOP"
      ],
      "metadata": {
        "id": "R7pNBtW0PfmE"
      }
    },
    {
      "cell_type": "code",
      "source": [
        "num_epochs = 100\n",
        "for epoch in range(num_epochs):\n",
        "  #forward pass\n",
        "  y_predicted = model(x)\n",
        "\n",
        "  #compute the loss\n",
        "  loss = criterion(y_predicted,y)\n",
        "\n",
        "  #backward pass\n",
        "  loss.backward()\n",
        "\n",
        "  #update the weights\n",
        "  optimiser.step()\n",
        "\n",
        "  #empty the gradients to avoid adding already calculated gradients on each loop\n",
        "  optimiser.zero_grad()\n",
        "\n",
        "  if (epoch+1) % 10 == 0:\n",
        "    print(f\"epoch: {epoch+1}, loss: {loss.item():.4f}\") \n",
        "\n"
      ],
      "metadata": {
        "colab": {
          "base_uri": "https://localhost:8080/"
        },
        "id": "Sgn_w6nLPctu",
        "outputId": "53b438a8-dcdc-4c7f-b73c-ce1157772512"
      },
      "execution_count": null,
      "outputs": [
        {
          "output_type": "stream",
          "name": "stdout",
          "text": [
            "epoch: 10, loss: 4311.1055\n",
            "epoch: 20, loss: 3218.2812\n",
            "epoch: 30, loss: 2427.4854\n",
            "epoch: 40, loss: 1854.6389\n",
            "epoch: 50, loss: 1439.2651\n",
            "epoch: 60, loss: 1137.8030\n",
            "epoch: 70, loss: 918.8303\n",
            "epoch: 80, loss: 759.6522\n",
            "epoch: 90, loss: 643.8589\n",
            "epoch: 100, loss: 559.5704\n"
          ]
        }
      ]
    },
    {
      "cell_type": "markdown",
      "source": [
        "# PLOTTING"
      ],
      "metadata": {
        "id": "GJIqQQ0VSSXS"
      }
    },
    {
      "cell_type": "code",
      "source": [
        "# before staring predicting, we need to stop the model from tracking the history and forming the backward graph, it set to requires_grad to False and cut it from the computational graph.\n",
        "#if we dont use no_grad() it will become a part of computational graph and calculate gradients\n",
        "\n",
        "#predicting for col x\n",
        "predicted = model(x).detach()\n",
        "\n",
        "plt.plot(X_numpy, Y_numpy,\"ro\")\n",
        "plt.plot(X_numpy,predicted, \"b\")\n",
        "plt.show()"
      ],
      "metadata": {
        "colab": {
          "base_uri": "https://localhost:8080/",
          "height": 430
        },
        "id": "tOTjdIUsSKi2",
        "outputId": "4f6b8128-3e73-42e4-e657-1ac8dd4316f5"
      },
      "execution_count": null,
      "outputs": [
        {
          "output_type": "display_data",
          "data": {
            "text/plain": [
              "<Figure size 640x480 with 1 Axes>"
            ],
            "image/png": "[encoded data removed]"
          },
          "metadata": {}
        }
      ]
    },
    {
      "cell_type": "code",
      "source": [
        "#Printing the Loss\n",
        "loss = criterion(predicted, y)\n",
        "print(loss.item())"
      ],
      "metadata": {
        "colab": {
          "base_uri": "https://localhost:8080/"
        },
        "id": "OIjB1HQDU0Oq",
        "outputId": "44928b16-49b2-4af8-dc60-cc23aaa29dc6"
      },
      "execution_count": null,
      "outputs": [
        {
          "output_type": "stream",
          "name": "stdout",
          "text": [
            "552.52001953125\n"
          ]
        }
      ]
    },
    {
      "cell_type": "code",
      "source": [],
      "metadata": {
        "id": "Z3ohVFhZXAco"
      },
      "execution_count": null,
      "outputs": []
    }
  ]
}