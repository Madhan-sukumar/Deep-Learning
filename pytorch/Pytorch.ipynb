{
  "nbformat": 4,
  "nbformat_minor": 0,
  "metadata": {
    "colab": {
      "provenance": [],
      "authorship_tag": "ABX9TyPgEt3ifeQgaMisLTw/wsu7",
      "include_colab_link": true
    },
    "kernelspec": {
      "name": "python3",
      "display_name": "Python 3"
    },
    "language_info": {
      "name": "python"
    }
  },
  "cells": [
    {
      "cell_type": "markdown",
      "metadata": {
        "id": "view-in-github",
        "colab_type": "text"
      },
      "source": [
        "<a href=\"https://colab.research.google.com/github/Madhan-sukumar/Deep-Learning/blob/main/pytorch/Pytorch.ipynb\" target=\"_parent\"><img src=\"https://colab.research.google.com/assets/colab-badge.svg\" alt=\"Open In Colab\"/></a>"
      ]
    },
    {
      "cell_type": "code",
      "source": [
        "#importing the pytorch\n",
        "import torch"
      ],
      "metadata": {
        "id": "oS_4ejsUOBzI"
      },
      "execution_count": null,
      "outputs": []
    },
    {
      "cell_type": "code",
      "source": [
        "#printing 1d empty tensor\n",
        "x =torch.empty(1)\n",
        "print(x)\n",
        "\n",
        "#printting 2d tensor\n",
        "y= torch.empty(2,3)\n",
        "print(y)\n",
        "\n",
        "#printing 3d tensor\n",
        "z= torch.empty(2,2,3)\n",
        "print(z)"
      ],
      "metadata": {
        "colab": {
          "base_uri": "https://localhost:8080/"
        },
        "id": "TngJ1vJNPcq6",
        "outputId": "c5be7b3f-1882-425a-b5dd-0882bfcd65a2"
      },
      "execution_count": null,
      "outputs": [
        {
          "output_type": "stream",
          "name": "stdout",
          "text": [
            "tensor([-1.2047e+11])\n",
            "tensor([[3.5952e-34, 0.0000e+00, 3.5945e-34],\n",
            "        [0.0000e+00, 8.9683e-44, 0.0000e+00]])\n",
            "tensor([[[-2.5555e-09,  4.5893e-41, -2.5555e-09],\n",
            "         [ 4.5893e-41,  4.4842e-44,  0.0000e+00]],\n",
            "\n",
            "        [[ 1.5695e-43,  0.0000e+00,  0.0000e+00],\n",
            "         [ 0.0000e+00,  0.0000e+00,  0.0000e+00]]])\n"
          ]
        }
      ]
    },
    {
      "cell_type": "code",
      "source": [
        "#creating tensor with rand like numpy\n",
        "r = torch.rand(2,3)\n",
        "print(r)\n",
        "\n",
        "z=torch.zeros(3,4)\n",
        "print(z)\n",
        "\n",
        "o=torch.ones(2,2)\n",
        "print(o)"
      ],
      "metadata": {
        "colab": {
          "base_uri": "https://localhost:8080/"
        },
        "id": "YlvnOYvjPike",
        "outputId": "463ea899-a08b-4bb5-c570-aaf4d4bf502a"
      },
      "execution_count": null,
      "outputs": [
        {
          "output_type": "stream",
          "name": "stdout",
          "text": [
            "tensor([[0.7777, 0.4061, 0.7375],\n",
            "        [0.2450, 0.5271, 0.7091]])\n",
            "tensor([[0., 0., 0., 0.],\n",
            "        [0., 0., 0., 0.],\n",
            "        [0., 0., 0., 0.]])\n",
            "tensor([[1., 1.],\n",
            "        [1., 1.]])\n"
          ]
        }
      ]
    },
    {
      "cell_type": "code",
      "source": [
        "#checking datatype and converting to other datatypes\n",
        "print(o.dtype)\n",
        "\n",
        "#converting the datatype\n",
        "i = torch.ones(3,4,dtype=torch.int32)\n",
        "print(i.dtype)\n"
      ],
      "metadata": {
        "colab": {
          "base_uri": "https://localhost:8080/"
        },
        "id": "DFBkZFC4Q12w",
        "outputId": "1da48abb-6fc2-46f6-942d-9ccd3c3523f3"
      },
      "execution_count": null,
      "outputs": [
        {
          "output_type": "stream",
          "name": "stdout",
          "text": [
            "torch.float32\n",
            "torch.int32\n"
          ]
        }
      ]
    },
    {
      "cell_type": "code",
      "source": [
        "#printing the size of tensor\n",
        "print(i.size())"
      ],
      "metadata": {
        "colab": {
          "base_uri": "https://localhost:8080/"
        },
        "id": "0KDGhYhDRb2g",
        "outputId": "9df848dc-48f2-4b62-ece1-0f9170ab65ef"
      },
      "execution_count": null,
      "outputs": [
        {
          "output_type": "stream",
          "name": "stdout",
          "text": [
            "torch.Size([3, 4])\n"
          ]
        }
      ]
    },
    {
      "cell_type": "code",
      "source": [
        "#can create a tensor using list\n",
        "t = torch.tensor([[1,2,3,4],[3,4,5,6]])\n",
        "print(t)\n",
        "print(t.size())"
      ],
      "metadata": {
        "colab": {
          "base_uri": "https://localhost:8080/"
        },
        "id": "NAM-RFMWTKY7",
        "outputId": "8c908c3e-8c2e-400d-8e00-e72df03b2980"
      },
      "execution_count": null,
      "outputs": [
        {
          "output_type": "stream",
          "name": "stdout",
          "text": [
            "tensor([[1, 2, 3, 4],\n",
            "        [3, 4, 5, 6]])\n",
            "torch.Size([2, 4])\n"
          ]
        }
      ]
    },
    {
      "cell_type": "markdown",
      "source": [
        "## **ELEMENTWISE OPERATIONS**"
      ],
      "metadata": {
        "id": "RtaD5m9xWKMH"
      }
    },
    {
      "cell_type": "markdown",
      "source": [
        "**ELEMENTWISE ADDITION**"
      ],
      "metadata": {
        "id": "511-Pjf2UekI"
      }
    },
    {
      "cell_type": "code",
      "source": [
        "#elementwise addition\n",
        "x=torch.rand(3,3)\n",
        "y=torch.rand(3,3)\n",
        "\n",
        "#adding\n",
        "z = x+y\n",
        "\n",
        "#can also use function\n",
        "a = torch.add(x,y)\n",
        "\n",
        "#performing inplace operation\n",
        "# underscore(_) will replace the original element based on operation\n",
        "y.add_(x)\n",
        "\n",
        "print(z)\n",
        "print(a)\n",
        "print(y)"
      ],
      "metadata": {
        "colab": {
          "base_uri": "https://localhost:8080/"
        },
        "id": "lPqPwaOtTf5N",
        "outputId": "5dbb012f-edf7-4d48-e0f0-fa41737d97c1"
      },
      "execution_count": null,
      "outputs": [
        {
          "output_type": "stream",
          "name": "stdout",
          "text": [
            "tensor([[1.6700, 1.2241, 1.4246],\n",
            "        [1.2725, 0.5430, 0.9492],\n",
            "        [0.9833, 1.4406, 1.1465]])\n",
            "tensor([[1.6700, 1.2241, 1.4246],\n",
            "        [1.2725, 0.5430, 0.9492],\n",
            "        [0.9833, 1.4406, 1.1465]])\n",
            "tensor([[1.6700, 1.2241, 1.4246],\n",
            "        [1.2725, 0.5430, 0.9492],\n",
            "        [0.9833, 1.4406, 1.1465]])\n"
          ]
        }
      ]
    },
    {
      "cell_type": "markdown",
      "source": [
        "**ELEMENTWISE SUBTRACTION**"
      ],
      "metadata": {
        "id": "FNm6AK8CVOCI"
      }
    },
    {
      "cell_type": "code",
      "source": [
        "#elementwise subtraction\n",
        "x=torch.rand(3,3)\n",
        "y=torch.rand(3,3)\n",
        "\n",
        "#subtraction\n",
        "z = x-y\n",
        "\n",
        "#can also use function\n",
        "a = torch.sub(x,y)\n",
        "\n",
        "#performing inplace operation\n",
        "# underscore(_) will replace the original element based on operation\n",
        "y.sub_(x)\n",
        "\n",
        "print(z)\n",
        "print(a)\n",
        "print(y)"
      ],
      "metadata": {
        "colab": {
          "base_uri": "https://localhost:8080/"
        },
        "id": "hNG7X3OlVYFO",
        "outputId": "3ea98e1d-1f77-42f7-e0a4-ba543c4895bb"
      },
      "execution_count": null,
      "outputs": [
        {
          "output_type": "stream",
          "name": "stdout",
          "text": [
            "tensor([[ 0.4312,  0.0119,  0.8504],\n",
            "        [ 0.0585, -0.0320, -0.5705],\n",
            "        [ 0.1406,  0.1913, -0.0101]])\n",
            "tensor([[ 0.4312,  0.0119,  0.8504],\n",
            "        [ 0.0585, -0.0320, -0.5705],\n",
            "        [ 0.1406,  0.1913, -0.0101]])\n",
            "tensor([[-0.4312, -0.0119, -0.8504],\n",
            "        [-0.0585,  0.0320,  0.5705],\n",
            "        [-0.1406, -0.1913,  0.0101]])\n"
          ]
        }
      ]
    },
    {
      "cell_type": "markdown",
      "source": [
        "can perform  elementwise operations for multiplication and division using mul() and div() functions"
      ],
      "metadata": {
        "id": "NONIw4W2Vl1G"
      }
    },
    {
      "cell_type": "markdown",
      "source": [
        "## **SLICING**"
      ],
      "metadata": {
        "id": "gcolOS7GWUvm"
      }
    },
    {
      "cell_type": "code",
      "source": [
        "z = torch.rand(4,4)\n",
        "print(z)"
      ],
      "metadata": {
        "colab": {
          "base_uri": "https://localhost:8080/"
        },
        "id": "s2bjqZCWVi17",
        "outputId": "94b48c84-fb51-4d5c-c928-16e182bc3607"
      },
      "execution_count": null,
      "outputs": [
        {
          "output_type": "stream",
          "name": "stdout",
          "text": [
            "tensor([[0.5380, 0.3598, 0.0413, 0.0158],\n",
            "        [0.0055, 0.8586, 0.2714, 0.2628],\n",
            "        [0.8949, 0.2461, 0.0072, 0.4298],\n",
            "        [0.5487, 0.9834, 0.7098, 0.9035]])\n"
          ]
        }
      ]
    },
    {
      "cell_type": "code",
      "source": [
        "#printing first 2 rows\n",
        "print(z[0:2])\n",
        "\n",
        "#printing first 2 rows and last 2 cols\n",
        "print(z[0:2,-2:])\n",
        "\n",
        "#printing all rows and 1st two col\n",
        "print(z[:,:2])\n",
        "\n",
        "#printing all rows and last 2 cols\n",
        "print(z[:,-2:])\n",
        "\n",
        "#printing all row and last 1 col\n",
        "print(z[:,-1])"
      ],
      "metadata": {
        "colab": {
          "base_uri": "https://localhost:8080/"
        },
        "id": "mqVYF55GWmwQ",
        "outputId": "5d9e2a18-f7b2-411b-8b1a-fa23d0f6a226"
      },
      "execution_count": null,
      "outputs": [
        {
          "output_type": "stream",
          "name": "stdout",
          "text": [
            "tensor([[0.5380, 0.3598, 0.0413, 0.0158],\n",
            "        [0.0055, 0.8586, 0.2714, 0.2628]])\n",
            "tensor([[0.0413, 0.0158],\n",
            "        [0.2714, 0.2628]])\n",
            "tensor([[0.5380, 0.3598],\n",
            "        [0.0055, 0.8586],\n",
            "        [0.8949, 0.2461],\n",
            "        [0.5487, 0.9834]])\n",
            "tensor([[0.0413, 0.0158],\n",
            "        [0.2714, 0.2628],\n",
            "        [0.0072, 0.4298],\n",
            "        [0.7098, 0.9035]])\n",
            "tensor([0.0158, 0.2628, 0.4298, 0.9035])\n"
          ]
        }
      ]
    },
    {
      "cell_type": "code",
      "source": [
        "#can get the actual value of an element using item()\n",
        "#item() only use for getting only one value\n",
        "print(z[3,2].item())"
      ],
      "metadata": {
        "colab": {
          "base_uri": "https://localhost:8080/"
        },
        "id": "AJJexwlLWpxe",
        "outputId": "eb3abd17-245d-4237-924f-44c148731ec4"
      },
      "execution_count": null,
      "outputs": [
        {
          "output_type": "stream",
          "name": "stdout",
          "text": [
            "0.7097703814506531\n"
          ]
        }
      ]
    },
    {
      "cell_type": "markdown",
      "source": [
        "# **RESHAPING**"
      ],
      "metadata": {
        "id": "-XMKu2jcwt7D"
      }
    },
    {
      "cell_type": "code",
      "source": [
        "#Reshaping can be done using view()\n",
        "x=torch.rand(4,4)\n",
        "print(x)\n",
        "\n",
        "#converting to 1d vector\n",
        "y =x.view(16)\n",
        "print(y)\n",
        "\n",
        "#converting by auto determination using given 1 dim by giving -1\n",
        "z = x.view(-1,2)\n",
        "print(z)\n",
        "\n",
        "a = x.view(8,-1)\n",
        "print(z)\n"
      ],
      "metadata": {
        "colab": {
          "base_uri": "https://localhost:8080/"
        },
        "id": "f1S27_BCYoAK",
        "outputId": "01d4e851-59e9-40fe-f68f-73cb13c87a3d"
      },
      "execution_count": null,
      "outputs": [
        {
          "output_type": "stream",
          "name": "stdout",
          "text": [
            "tensor([[0.6019, 0.1217, 0.6372, 0.5851],\n",
            "        [0.2870, 0.6197, 0.5236, 0.9709],\n",
            "        [0.6318, 0.2729, 0.9992, 0.0630],\n",
            "        [0.9483, 0.5276, 0.6713, 0.0040]])\n",
            "tensor([0.6019, 0.1217, 0.6372, 0.5851, 0.2870, 0.6197, 0.5236, 0.9709, 0.6318,\n",
            "        0.2729, 0.9992, 0.0630, 0.9483, 0.5276, 0.6713, 0.0040])\n",
            "tensor([[0.6019, 0.1217],\n",
            "        [0.6372, 0.5851],\n",
            "        [0.2870, 0.6197],\n",
            "        [0.5236, 0.9709],\n",
            "        [0.6318, 0.2729],\n",
            "        [0.9992, 0.0630],\n",
            "        [0.9483, 0.5276],\n",
            "        [0.6713, 0.0040]])\n",
            "tensor([[0.6019, 0.1217],\n",
            "        [0.6372, 0.5851],\n",
            "        [0.2870, 0.6197],\n",
            "        [0.5236, 0.9709],\n",
            "        [0.6318, 0.2729],\n",
            "        [0.9992, 0.0630],\n",
            "        [0.9483, 0.5276],\n",
            "        [0.6713, 0.0040]])\n"
          ]
        }
      ]
    },
    {
      "cell_type": "markdown",
      "source": [
        "# **TENSOR TO NUMPY AND VICE VERSA**"
      ],
      "metadata": {
        "id": "QnjdNT974PXQ"
      }
    },
    {
      "cell_type": "code",
      "source": [
        "a= torch.ones(5)\n",
        "print(type(a))\n",
        "\n",
        "#converting tensor to numpy array\n",
        "b = a.numpy()\n",
        "print(type(b))\n",
        "\n",
        "#converting numpy array to tensor\n",
        "c = torch.from_numpy(b)\n",
        "print(type(c))\n",
        "\n"
      ],
      "metadata": {
        "colab": {
          "base_uri": "https://localhost:8080/"
        },
        "id": "NoVkhnJdxKeG",
        "outputId": "877bd394-32e6-4093-cb87-94a9d8792f88"
      },
      "execution_count": null,
      "outputs": [
        {
          "output_type": "stream",
          "name": "stdout",
          "text": [
            "<class 'torch.Tensor'>\n",
            "<class 'numpy.ndarray'>\n",
            "<class 'torch.Tensor'>\n"
          ]
        }
      ]
    },
    {
      "cell_type": "code",
      "source": [],
      "metadata": {
        "id": "J71zKbx34fFr"
      },
      "execution_count": null,
      "outputs": []
    }
  ]
}